{
 "cells": [
  {
   "cell_type": "code",
   "execution_count": 1,
   "metadata": {},
   "outputs": [
    {
     "name": "stdout",
     "output_type": "stream",
     "text": [
      "Players:  18767\n"
     ]
    },
    {
     "data": {
      "text/html": [
       "<div>\n",
       "<style scoped>\n",
       "    .dataframe tbody tr th:only-of-type {\n",
       "        vertical-align: middle;\n",
       "    }\n",
       "\n",
       "    .dataframe tbody tr th {\n",
       "        vertical-align: top;\n",
       "    }\n",
       "\n",
       "    .dataframe thead th {\n",
       "        text-align: right;\n",
       "    }\n",
       "</style>\n",
       "<table border=\"1\" class=\"dataframe\">\n",
       "  <thead>\n",
       "    <tr style=\"text-align: right;\">\n",
       "      <th></th>\n",
       "      <th>int_player_id</th>\n",
       "      <th>str_player_name</th>\n",
       "      <th>str_positions</th>\n",
       "      <th>int_overall_rating</th>\n",
       "      <th>int_team_id</th>\n",
       "      <th>int_long_passing</th>\n",
       "      <th>int_ball_control</th>\n",
       "      <th>int_dribbling</th>\n",
       "      <th>str_team_name</th>\n",
       "      <th>int_overall</th>\n",
       "    </tr>\n",
       "  </thead>\n",
       "  <tbody>\n",
       "    <tr>\n",
       "      <th>0</th>\n",
       "      <td>1</td>\n",
       "      <td>Lionel Andrés Messi Cuccittini</td>\n",
       "      <td>RW, ST, CF</td>\n",
       "      <td>93</td>\n",
       "      <td>5.0</td>\n",
       "      <td>91</td>\n",
       "      <td>96</td>\n",
       "      <td>96</td>\n",
       "      <td>FC Barcelona</td>\n",
       "      <td>84</td>\n",
       "    </tr>\n",
       "    <tr>\n",
       "      <th>33</th>\n",
       "      <td>2</td>\n",
       "      <td>Cristiano Ronaldo dos Santos Aveiro</td>\n",
       "      <td>ST, LW</td>\n",
       "      <td>92</td>\n",
       "      <td>6.0</td>\n",
       "      <td>77</td>\n",
       "      <td>92</td>\n",
       "      <td>88</td>\n",
       "      <td>Juventus</td>\n",
       "      <td>83</td>\n",
       "    </tr>\n",
       "    <tr>\n",
       "      <th>57</th>\n",
       "      <td>3</td>\n",
       "      <td>Jan Oblak</td>\n",
       "      <td>GK</td>\n",
       "      <td>91</td>\n",
       "      <td>8.0</td>\n",
       "      <td>40</td>\n",
       "      <td>30</td>\n",
       "      <td>12</td>\n",
       "      <td>Atlético Madrid</td>\n",
       "      <td>83</td>\n",
       "    </tr>\n",
       "    <tr>\n",
       "      <th>121</th>\n",
       "      <td>5</td>\n",
       "      <td>Neymar da Silva Santos Júnior</td>\n",
       "      <td>LW, CAM</td>\n",
       "      <td>91</td>\n",
       "      <td>7.0</td>\n",
       "      <td>81</td>\n",
       "      <td>95</td>\n",
       "      <td>95</td>\n",
       "      <td>Paris Saint-Germain</td>\n",
       "      <td>83</td>\n",
       "    </tr>\n",
       "    <tr>\n",
       "      <th>89</th>\n",
       "      <td>4</td>\n",
       "      <td>Kevin De Bruyne</td>\n",
       "      <td>CAM, CM</td>\n",
       "      <td>91</td>\n",
       "      <td>2.0</td>\n",
       "      <td>93</td>\n",
       "      <td>92</td>\n",
       "      <td>88</td>\n",
       "      <td>Manchester City</td>\n",
       "      <td>85</td>\n",
       "    </tr>\n",
       "  </tbody>\n",
       "</table>\n",
       "</div>"
      ],
      "text/plain": [
       "     int_player_id                      str_player_name str_positions  \\\n",
       "0                1       Lionel Andrés Messi Cuccittini    RW, ST, CF   \n",
       "33               2  Cristiano Ronaldo dos Santos Aveiro        ST, LW   \n",
       "57               3                            Jan Oblak            GK   \n",
       "121              5        Neymar da Silva Santos Júnior       LW, CAM   \n",
       "89               4                      Kevin De Bruyne       CAM, CM   \n",
       "\n",
       "     int_overall_rating  int_team_id  int_long_passing  int_ball_control  \\\n",
       "0                    93          5.0                91                96   \n",
       "33                   92          6.0                77                92   \n",
       "57                   91          8.0                40                30   \n",
       "121                  91          7.0                81                95   \n",
       "89                   91          2.0                93                92   \n",
       "\n",
       "     int_dribbling        str_team_name  int_overall  \n",
       "0               96         FC Barcelona           84  \n",
       "33              88             Juventus           83  \n",
       "57              12      Atlético Madrid           83  \n",
       "121             95  Paris Saint-Germain           83  \n",
       "89              88      Manchester City           85  "
      ]
     },
     "execution_count": 1,
     "metadata": {},
     "output_type": "execute_result"
    }
   ],
   "source": [
    "import pandas as pd\n",
    "import torch\n",
    "import dgl\n",
    "# Load data\n",
    "player_df = pd.read_csv(\"data/fifa21/tbl_player.csv\")\n",
    "skill_df = pd.read_csv(\"data/fifa21/tbl_player_skill.csv\")\n",
    "team_df = pd.read_csv(\"data/fifa21/tbl_team.csv\")\n",
    "\n",
    "# Extract subsets\n",
    "player_df = player_df[[\"int_player_id\", \"str_player_name\", \"str_positions\", \"int_overall_rating\", \"int_team_id\"]]\n",
    "skill_df = skill_df[[\"int_player_id\", \"int_long_passing\", \"int_ball_control\", \"int_dribbling\"]]\n",
    "team_df = team_df[[\"int_team_id\", \"str_team_name\", \"int_overall\"]]\n",
    "\n",
    "# Merge data\n",
    "player_df = player_df.merge(skill_df, on='int_player_id')\n",
    "fifa_df = player_df.merge(team_df, on='int_team_id')\n",
    "\n",
    "# Sort dataframe\n",
    "fifa_df = fifa_df.sort_values(by=\"int_overall_rating\", ascending=False)\n",
    "print(\"Players: \", fifa_df.shape[0])\n",
    "fifa_df.head()"
   ]
  },
  {
   "cell_type": "code",
   "execution_count": 2,
   "metadata": {},
   "outputs": [
    {
     "data": {
      "text/plain": [
       "1"
      ]
     },
     "execution_count": 2,
     "metadata": {},
     "output_type": "execute_result"
    }
   ],
   "source": [
    "# Make sure that we have no duplicate nodes\n",
    "max(fifa_df[\"int_player_id\"].value_counts())"
   ]
  },
  {
   "cell_type": "code",
   "execution_count": 56,
   "metadata": {},
   "outputs": [
    {
     "data": {
      "text/plain": [
       "array([91, 77, 40, ..., 50, 37, 47])"
      ]
     },
     "execution_count": 56,
     "metadata": {},
     "output_type": "execute_result"
    }
   ],
   "source": [
    "# Sort to define the order of nodes\n",
    "sorted_df = fifa_df.sort_values(by=\"int_player_id\")\n",
    "# Select node features\n",
    "node_features = sorted_df[[\"str_positions\", \"int_long_passing\", \"int_ball_control\", \"int_dribbling\"]]\n",
    "# Convert non-numeric columns\n",
    "pd.set_option('mode.chained_assignment', None)\n",
    "positions = node_features[\"str_positions\"].str.split(\",\", expand=True)\n",
    "node_features[\"first_position\"] = positions[0]\n",
    "# One-hot encoding\n",
    "node_features = pd.concat([node_features, pd.get_dummies(node_features[\"first_position\"])], axis=1, join='inner')\n",
    "node_features.drop([\"str_positions\", \"first_position\"], axis=1, inplace=True)\n",
    "node_features.head() "
   ]
  },
  {
   "cell_type": "code",
   "execution_count": 55,
   "metadata": {},
   "outputs": [
    {
     "data": {
      "text/plain": [
       "array([[91, 96, 96, ...,  1,  0,  0],\n",
       "       [77, 92, 88, ...,  0,  0,  1],\n",
       "       [40, 30, 12, ...,  0,  0,  0],\n",
       "       ...,\n",
       "       [50, 48, 46, ...,  0,  0,  0],\n",
       "       [37, 44, 53, ...,  0,  0,  1],\n",
       "       [47, 43, 45, ...,  0,  0,  0]])"
      ]
     },
     "execution_count": 55,
     "metadata": {},
     "output_type": "execute_result"
    }
   ],
   "source": [
    "# Convert to numpy\n",
    "x = node_features.to_numpy()\n",
    "x # [num_nodes x num_features]"
   ]
  },
  {
   "cell_type": "code",
   "execution_count": 6,
   "metadata": {},
   "outputs": [
    {
     "data": {
      "text/html": [
       "<div>\n",
       "<style scoped>\n",
       "    .dataframe tbody tr th:only-of-type {\n",
       "        vertical-align: middle;\n",
       "    }\n",
       "\n",
       "    .dataframe tbody tr th {\n",
       "        vertical-align: top;\n",
       "    }\n",
       "\n",
       "    .dataframe thead th {\n",
       "        text-align: right;\n",
       "    }\n",
       "</style>\n",
       "<table border=\"1\" class=\"dataframe\">\n",
       "  <thead>\n",
       "    <tr style=\"text-align: right;\">\n",
       "      <th></th>\n",
       "      <th>int_overall</th>\n",
       "    </tr>\n",
       "  </thead>\n",
       "  <tbody>\n",
       "    <tr>\n",
       "      <th>0</th>\n",
       "      <td>84</td>\n",
       "    </tr>\n",
       "    <tr>\n",
       "      <th>33</th>\n",
       "      <td>83</td>\n",
       "    </tr>\n",
       "    <tr>\n",
       "      <th>57</th>\n",
       "      <td>83</td>\n",
       "    </tr>\n",
       "    <tr>\n",
       "      <th>121</th>\n",
       "      <td>83</td>\n",
       "    </tr>\n",
       "    <tr>\n",
       "      <th>89</th>\n",
       "      <td>85</td>\n",
       "    </tr>\n",
       "  </tbody>\n",
       "</table>\n",
       "</div>"
      ],
      "text/plain": [
       "     int_overall\n",
       "0             84\n",
       "33            83\n",
       "57            83\n",
       "121           83\n",
       "89            85"
      ]
     },
     "execution_count": 6,
     "metadata": {},
     "output_type": "execute_result"
    }
   ],
   "source": [
    "# Sort to define the order of nodes\n",
    "sorted_df = fifa_df.sort_values(by=\"int_player_id\")\n",
    "# Select node features\n",
    "labels = sorted_df[[\"int_overall\"]]\n",
    "labels.head()"
   ]
  },
  {
   "cell_type": "code",
   "execution_count": 7,
   "metadata": {},
   "outputs": [
    {
     "data": {
      "text/plain": [
       "array([[84],\n",
       "       [83],\n",
       "       [83],\n",
       "       ...,\n",
       "       [62],\n",
       "       [62],\n",
       "       [67]])"
      ]
     },
     "execution_count": 7,
     "metadata": {},
     "output_type": "execute_result"
    }
   ],
   "source": [
    "# Convert to numpy\n",
    "y = labels.to_numpy()\n",
    "y.shape # [num_nodes, 1] --> node regression\n",
    "y"
   ]
  },
  {
   "cell_type": "code",
   "execution_count": 8,
   "metadata": {},
   "outputs": [],
   "source": [
    "# Remap player IDs\n",
    "fifa_df[\"int_player_id\"] = fifa_df.reset_index().index"
   ]
  },
  {
   "cell_type": "code",
   "execution_count": 9,
   "metadata": {},
   "outputs": [
    {
     "data": {
      "text/plain": [
       "Everton                   36\n",
       "Valencia CF               34\n",
       "FC Nantes                 34\n",
       "Villarreal CF             34\n",
       "Real Valladolid CF        34\n",
       "                          ..\n",
       "Wellington Phoenix        19\n",
       "Central Coast Mariners    19\n",
       "Melbourne Victory         19\n",
       "Brisbane Roar             19\n",
       "Adelaide United           19\n",
       "Name: str_team_name, Length: 681, dtype: int64"
      ]
     },
     "execution_count": 9,
     "metadata": {},
     "output_type": "execute_result"
    }
   ],
   "source": [
    "# This tells us how many players per team we have to connect\n",
    "fifa_df[\"str_team_name\"].value_counts()"
   ]
  },
  {
   "cell_type": "code",
   "execution_count": 67,
   "metadata": {},
   "outputs": [],
   "source": [
    "import itertools\n",
    "import numpy as np\n",
    "\n",
    "teams = fifa_df[\"str_team_name\"].unique()\n",
    "all_edges = np.array([], dtype=np.int32).reshape((0, 2))\n",
    "for team in teams:\n",
    "    team_df = fifa_df[fifa_df[\"str_team_name\"] == team]\n",
    "    players = team_df[\"int_player_id\"].values\n",
    "    # Build all combinations, as all players are connected\n",
    "    permutations = list(itertools.combinations(players, 2))\n",
    "    edges_source = [e[0] for e in permutations]\n",
    "    edges_target = [e[1] for e in permutations]\n",
    "    team_edges = np.column_stack([edges_source, edges_target])\n",
    "    all_edges = np.vstack([all_edges, team_edges])\n",
    "# Convert to Pytorch Geometric format\n",
    "edge_index = all_edges.transpose()\n",
    "edge_index # [2, num_edges]\n",
    "test = torch.from_numpy(edge_index)\n",
    "edges_src = test[0]\n",
    "edges_dst = test[1]\n"
   ]
  },
  {
   "cell_type": "code",
   "execution_count": 70,
   "metadata": {},
   "outputs": [],
   "source": [
    "\n",
    "## Creating DGLGRAPH\n",
    "graph = dgl.graph((edges_src, edges_dst), num_nodes = fifa_df.shape[0])\n",
    "#int_long_passing\tint_ball_control\tint_dribbling\tCAM\tCB\tCDM\tCF\tCM\tGK\tLB\tLM\tLW\tLWB\tRB\tRM\tRW\tRWB\tST\n",
    "graph.ndata['int_long_passing'] = torch.from_numpy(node_features['int_long_passing'].to_numpy())\n",
    "graph.ndata['int_ball_control'] = torch.from_numpy(node_features['int_ball_control'].to_numpy())\n",
    "graph.ndata['int_dribbling'] = torch.from_numpy(node_features['int_dribbling'].to_numpy())\n",
    "graph.ndata['CAM'] = torch.from_numpy(node_features['CAM'].to_numpy())\n",
    "graph.ndata['CB'] = torch.from_numpy(node_features['CDM'].to_numpy())\n",
    "graph.ndata['CF'] = torch.from_numpy(node_features['CM'].to_numpy())\n",
    "graph.ndata['GK'] = torch.from_numpy(node_features['GK'].to_numpy())\n",
    "graph.ndata['LB'] = torch.from_numpy(node_features['LB'].to_numpy())\n",
    "graph.ndata['LM'] = torch.from_numpy(node_features['LM'].to_numpy())\n",
    "graph.ndata['LW'] = torch.from_numpy(node_features['LW'].to_numpy())\n",
    "graph.ndata['LWB'] = torch.from_numpy(node_features['LWB'].to_numpy())\n",
    "graph.ndata['RB'] = torch.from_numpy(node_features['RB'].to_numpy())\n",
    "graph.ndata['RM'] = torch.from_numpy(node_features['RM'].to_numpy())\n",
    "graph.ndata['RW'] = torch.from_numpy(node_features['RW'].to_numpy())\n",
    "graph.ndata['RWB'] = torch.from_numpy(node_features['RWB'].to_numpy())\n",
    "graph.ndata['ST'] = torch.from_numpy(node_features['ST'].to_numpy())\n",
    "graph.ndata['int_overall'] = torch.from_numpy(sorted_df[[\"int_overall\"]].to_numpy())\n",
    "n_nodes = fifa_df.shape[0]\n",
    "#TRAINING 0.8, VALIDATION 0.2, TESTING 0.2\n",
    "n_train = int(n_nodes * 0.6)\n",
    "n_val = int(n_nodes * 0.2)\n",
    "train_mask = torch.zeros(n_nodes, dtype=torch.bool)\n",
    "val_mask = torch.zeros(n_nodes, dtype=torch.bool)\n",
    "test_mask = torch.zeros(n_nodes, dtype=torch.bool)\n",
    "train_mask[:n_train] = True\n",
    "val_mask[n_train : n_train + n_val] = True\n",
    "test_mask[n_train + n_val :] = True\n",
    "graph.ndata[\"train_mask\"] = train_mask\n",
    "graph.ndata[\"val_mask\"] = val_mask\n",
    "graph.ndata[\"test_mask\"] = test_mask"
   ]
  },
  {
   "cell_type": "code",
   "execution_count": null,
   "metadata": {},
   "outputs": [],
   "source": [
    "import dgl\n",
    "import torch\n",
    "import torch.nn as nn\n",
    "import torch.nn.functional as F\n",
    "\n",
    "# define a GCN model for node regression\n",
    "class GCN(nn.Module):\n",
    "    def __init__(self, in_feats, hidden_size, out_feats):\n",
    "        super(GCN, self).__init__()\n",
    "        self.conv1 = dgl.nn.GraphConv(in_feats, hidden_size)\n",
    "        self.conv2 = dgl.nn.GraphConv(hidden_size, out_feats)\n",
    "\n",
    "    def forward(self, g, h):\n",
    "        h = F.relu(self.conv1(g, h))\n",
    "        h = self.conv2(g, h)\n",
    "        return h\n",
    "\n",
    "def train(g, model):\n",
    "    optimizer = torch.optim.Adam(model.parameters(), lr=0.01)\n",
    "    best_val_acc = 0\n",
    "    best_test_acc = 0\n",
    "\n",
    "    features = g.ndata[\"feat\"]\n",
    "    labels = g.ndata[\"label\"]\n",
    "    train_mask = g.ndata[\"train_mask\"]\n",
    "    val_mask = g.ndata[\"val_mask\"]\n",
    "    test_mask = g.ndata[\"test_mask\"]\n",
    "    for e in range(100):\n",
    "        # Forward\n",
    "        logits = model(g, features)\n",
    "\n",
    "        # Compute prediction\n",
    "        pred = logits.argmax(1)\n",
    "\n",
    "        # Compute loss\n",
    "        # Note that you should only compute the losses of the nodes in the training set.\n",
    "        loss = F.mse_loss(logits[train_mask], labels[train_mask])\n",
    "\n",
    "        # Compute accuracy on training/validation/test\n",
    "        train_acc = (pred[train_mask] == labels[train_mask]).float().mean()\n",
    "        val_acc = (pred[val_mask] == labels[val_mask]).float().mean()\n",
    "        test_acc = (pred[test_mask] == labels[test_mask]).float().mean()\n",
    "\n",
    "        # Save the best validation accuracy and the corresponding test accuracy.\n",
    "        if best_val_acc < val_acc:\n",
    "            best_val_acc = val_acc\n",
    "            best_test_acc = test_acc\n",
    "\n",
    "        # Backward\n",
    "        optimizer.zero_grad()\n",
    "        loss.backward()\n",
    "        optimizer.step()\n",
    "\n",
    "        if e % 5 == 0:\n",
    "            print(\n",
    "                \"In epoch {}, loss: {:.3f}, val acc: {:.3f} (best {:.3f}), test acc: {:.3f} (best {:.3f})\".format(\n",
    "                    e, loss, val_acc, best_val_acc, test_acc, best_test_acc\n",
    "                )\n",
    "            )\n",
    "\n",
    "\n",
    "model = GCN(g.ndata[\"feat\"].shape[1], 16, dataset.num_classes)\n",
    "train(g, model) \n"
   ]
  }
 ],
 "metadata": {
  "kernelspec": {
   "display_name": "Python 3",
   "language": "python",
   "name": "python3"
  },
  "language_info": {
   "codemirror_mode": {
    "name": "ipython",
    "version": 3
   },
   "file_extension": ".py",
   "mimetype": "text/x-python",
   "name": "python",
   "nbconvert_exporter": "python",
   "pygments_lexer": "ipython3",
   "version": "3.11.2"
  },
  "orig_nbformat": 4
 },
 "nbformat": 4,
 "nbformat_minor": 2
}
